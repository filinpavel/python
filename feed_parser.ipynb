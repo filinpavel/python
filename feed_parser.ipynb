{
  "nbformat": 4,
  "nbformat_minor": 0,
  "metadata": {
    "colab": {
      "name": "feed_parser.ipynb",
      "provenance": []
    },
    "kernelspec": {
      "name": "python3",
      "display_name": "Python 3"
    },
    "language_info": {
      "name": "python"
    }
  },
  "cells": [
    {
      "cell_type": "code",
      "execution_count": 1,
      "metadata": {
        "id": "OiIxCcOjzXlY"
      },
      "outputs": [],
      "source": [
        "!pip install feedparser > /dev/null\n",
        "import feedparser, datetime"
      ]
    },
    {
      "cell_type": "code",
      "source": [
        "dict = {'habr python':'https://habr.com/ru/rss/hub/python/all/?fl=ru',\n",
        "        'habr infosec':'https://habr.com/ru/rss/hub/infosecurity/all/?fl=ru'\n",
        "        }"
      ],
      "metadata": {
        "id": "jNOET5MDzaMN"
      },
      "execution_count": 2,
      "outputs": []
    },
    {
      "cell_type": "code",
      "source": [
        "r = 3\n",
        "d = len(dict)\n",
        "for i in range(d) :\n",
        "    for n in range(r):\n",
        "      try:\n",
        "        id = list(dict)[i]\n",
        "        url = list(dict.values())[i]\n",
        "        article = feedparser.parse(url)\n",
        "        datesplit = (article.entries[n].published).split()\n",
        "        date = datesplit[1]+' '+datesplit[2]\n",
        "        articlelink =' '+ article.entries[n].title+' '+article.entries[n].link\n",
        "        a = id+' '+ date + ' ' + article.entries[n].title\n",
        "        print(a)\n",
        "        a = '\\t' + '\\t' + article.entries[n].link\n",
        "        print(a)\n",
        "      except IndexError:\n",
        "        pass"
      ],
      "metadata": {
        "colab": {
          "base_uri": "https://localhost:8080/"
        },
        "id": "eFZtEoGozchX",
        "outputId": "31825d36-000f-4b67-fbc0-c1f274f4439a"
      },
      "execution_count": 3,
      "outputs": [
        {
          "output_type": "stream",
          "name": "stdout",
          "text": [
            "habr python 24 Jun Воспроизводимость ML экспериментов с помощью MLflow project\n",
            "\t\thttps://habr.com/ru/post/673324/?utm_campaign=673324&utm_source=habrahabr&utm_medium=rss\n",
            "habr python 24 Jun Собираем генератор данных на Blender. Часть 3: Материалы и освещение\n",
            "\t\thttps://habr.com/ru/post/673322/?utm_campaign=673322&utm_source=habrahabr&utm_medium=rss\n",
            "habr python 24 Jun Я не придумал, куда сходить — и скодил своего бота, который решает эту проблему за меня\n",
            "\t\thttps://habr.com/ru/post/673170/?utm_campaign=673170&utm_source=habrahabr&utm_medium=rss\n",
            "habr infosec 24 Jun ТОП-3 ИБ-событий недели по версии Jet CSIRT\n",
            "\t\thttps://habr.com/ru/post/673282/?utm_campaign=673282&utm_source=habrahabr&utm_medium=rss\n",
            "habr infosec 24 Jun Еще 13 расширений Google CHROME для применения в OSINT\n",
            "\t\thttps://habr.com/ru/post/673260/?utm_campaign=673260&utm_source=habrahabr&utm_medium=rss\n",
            "habr infosec 24 Jun [Пятничное] Про Горыныча, Васю и мужиков с ломом\n",
            "\t\thttps://habr.com/ru/post/672636/?utm_campaign=672636&utm_source=habrahabr&utm_medium=rss\n"
          ]
        }
      ]
    }
  ]
}