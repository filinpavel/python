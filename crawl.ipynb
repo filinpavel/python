{
  "nbformat": 4,
  "nbformat_minor": 0,
  "metadata": {
    "colab": {
      "provenance": []
    },
    "kernelspec": {
      "name": "python3",
      "display_name": "Python 3"
    },
    "language_info": {
      "name": "python"
    }
  },
  "cells": [
    {
      "cell_type": "code",
      "execution_count": 1,
      "metadata": {
        "id": "bgDbS5wp-PTG",
        "colab": {
          "base_uri": "https://localhost:8080/"
        },
        "outputId": "5a741257-2740-4c46-db9c-36b41ac9f648"
      },
      "outputs": [
        {
          "output_type": "stream",
          "name": "stdout",
          "text": [
            "sudo: docker: command not found\n"
          ]
        }
      ],
      "source": [
        "!sudo docker run uranusq/gogetcrawl url *.xakep.ru/* --ext pdf > crawl_xakep.text"
      ]
    }
  ]
}