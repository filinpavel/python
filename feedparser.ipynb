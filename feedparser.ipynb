{
  "nbformat": 4,
  "nbformat_minor": 0,
  "metadata": {
    "colab": {
      "name": "feedparser.ipynb",
      "provenance": [],
      "collapsed_sections": [],
      "authorship_tag": "ABX9TyMvGdi1K5NhrhRKhH85+2Ds",
      "include_colab_link": true
    },
    "kernelspec": {
      "name": "python3",
      "display_name": "Python 3"
    }
  },
  "cells": [
    {
      "cell_type": "markdown",
      "metadata": {
        "id": "view-in-github",
        "colab_type": "text"
      },
      "source": [
        "<a href=\"https://colab.research.google.com/github/filinpavel/python/blob/main/feedparser.ipynb\" target=\"_parent\"><img src=\"https://colab.research.google.com/assets/colab-badge.svg\" alt=\"Open In Colab\"/></a>"
      ]
    },
    {
      "cell_type": "code",
      "metadata": {
        "id": "7nPF_oNm8lyD",
        "colab": {
          "base_uri": "https://localhost:8080/"
        },
        "outputId": "f653dff7-01a7-4adf-8b65-2ada714c24b2"
      },
      "source": [
        "!pip install feedparser\n",
        "import feedparser, datetime\n",
        " \n",
        "#t = datetime.datetime.now()\n",
        "#d = str(t).split()\n",
        "#f = open('{}-CyberAnarchist-digest.txt'.format(d[0]),'w+')"
      ],
      "execution_count": null,
      "outputs": [
        {
          "output_type": "stream",
          "name": "stdout",
          "text": [
            "Collecting feedparser\n",
            "  Downloading feedparser-6.0.8-py3-none-any.whl (81 kB)\n",
            "\u001b[?25l\r\u001b[K     |████                            | 10 kB 20.4 MB/s eta 0:00:01\r\u001b[K     |████████                        | 20 kB 25.2 MB/s eta 0:00:01\r\u001b[K     |████████████▏                   | 30 kB 15.6 MB/s eta 0:00:01\r\u001b[K     |████████████████▏               | 40 kB 10.9 MB/s eta 0:00:01\r\u001b[K     |████████████████████▏           | 51 kB 5.6 MB/s eta 0:00:01\r\u001b[K     |████████████████████████▎       | 61 kB 5.6 MB/s eta 0:00:01\r\u001b[K     |████████████████████████████▎   | 71 kB 5.3 MB/s eta 0:00:01\r\u001b[K     |████████████████████████████████| 81 kB 3.6 MB/s \n",
            "\u001b[?25hCollecting sgmllib3k\n",
            "  Downloading sgmllib3k-1.0.0.tar.gz (5.8 kB)\n",
            "Building wheels for collected packages: sgmllib3k\n",
            "  Building wheel for sgmllib3k (setup.py) ... \u001b[?25l\u001b[?25hdone\n",
            "  Created wheel for sgmllib3k: filename=sgmllib3k-1.0.0-py3-none-any.whl size=6065 sha256=b8ab32169363c67fc86e6e0e226f4ff9107b69d386a1e96a6425c2e6582dc417\n",
            "  Stored in directory: /root/.cache/pip/wheels/73/ad/a4/0dff4a6ef231fc0dfa12ffbac2a36cebfdddfe059f50e019aa\n",
            "Successfully built sgmllib3k\n",
            "Installing collected packages: sgmllib3k, feedparser\n",
            "Successfully installed feedparser-6.0.8 sgmllib3k-1.0.0\n"
          ]
        }
      ]
    },
    {
      "cell_type": "code",
      "metadata": {
        "id": "pEQckx5WkrZk",
        "cellView": "form"
      },
      "source": [
        ""
      ],
      "execution_count": null,
      "outputs": []
    },
    {
      "cell_type": "code",
      "metadata": {
        "id": "YxJXTHisHPG1",
        "cellView": "form"
      },
      "source": [
        ""
      ],
      "execution_count": null,
      "outputs": []
    },
    {
      "cell_type": "code",
      "metadata": {
        "id": "_EJyXwI-dbcv",
        "colab": {
          "base_uri": "https://localhost:8080/"
        },
        "outputId": "5c04df08-7c6a-4fa5-a75f-4b82c7a809a0"
      },
      "source": [
        "import feedparser\n",
        "dict = {'НКЦКИ':'https://safe-surf.ru/rss/',\n",
        "        'Checkpoint':'https://research.checkpoint.com/feed/',\n",
        "        'CISA':'https://us-cert.cisa.gov/ncas/current-activity.xml',\n",
        "        'NSA':'https://www.nsa.gov/DesktopModules/ArticleCS/RSS.ashx?ContentType=1&Site=920&max=20',\n",
        "        'Securelist':'https://securelist.com/feed',\n",
        "        'ESET':'https://www.welivesecurity.com/feed/',\n",
        "'EE':'https://www.ria.ee/en/news-feed/all/feed',\n",
        "'CERT FR':'https://www.cert.ssi.gouv.fr/feed/',\n",
        "'MSFT SRC':'https://msrc-blog.microsoft.com/feed/',\n",
        "       'Sec7':'https://sector7.computest.nl/index.xml',\n",
        "        'MLWRNews':'https://malware.news/latest.rss',\n",
        "        #'ClearSky':'https://www.clearskysec.com/feed/',\n",
        "        'Varonis':'https://blog.varonis.ru/feed/',\n",
        "        'ZDI':'https://www.zerodayinitiative.com/blog/?format=rss',\n",
        "        'RecordedFuture':'https://www.recordedfuture.com/feed/'\n",
        "       }\n",
        "r = 3\n",
        "d = len(dict)\n",
        "for i in range(d) :\n",
        "    for n in range(r):\n",
        "      id = list(dict)[i]\n",
        "      url = list(dict.values())[i]\n",
        "      article = feedparser.parse(url)\n",
        "      datesplit = (article.entries[n].published).split()\n",
        "      date = datesplit[1]+' '+datesplit[2]\n",
        "      articlelink =' '+ article.entries[n].title+' '+article.entries[n].link\n",
        "      #a = id+' '+ date + articlelink\n",
        "      a = id+' '+ date + ' ' + article.entries[n].title\n",
        "      print(a)\n",
        "      a = '\\t' + '\\t' + article.entries[n].link\n",
        "      print(a)"
      ],
      "execution_count": null,
      "outputs": [
        {
          "output_type": "stream",
          "name": "stdout",
          "text": [
            "НКЦКИ 20 Sep НКЦКИ предупреждает об угрозе DDoS-атак с использованием роутеров MikroTik\n",
            "\t\thttps://safe-surf.ru/specialists/news/669573/\n",
            "НКЦКИ 20 Sep Основные результаты деятельности НКЦКИ (09.09.2021-15.09.2021)\n",
            "\t\thttps://safe-surf.ru/users-of/media/nkcki-statistics/669462/\n",
            "НКЦКИ 17 Sep Уведомление об уязвимости VULN-20210917.24\n",
            "\t\thttps://safe-surf.ru/specialists/bulletins-nkcki/669566/\n",
            "Checkpoint 19 Sep 20th September – Threat Intelligence Report\n",
            "\t\thttps://research.checkpoint.com/2021/20th-september-threat-intelligence-report/\n",
            "Checkpoint 13 Sep 13th September – Threat Intelligence Report\n",
            "\t\thttps://research.checkpoint.com/2021/research-checkpoint-com-wp-content-uploads-2021-09-threat_intelligence_news_2021-09-13-pdf/\n",
            "Checkpoint 05 Sep 6th September – Threat Intelligence Report\n",
            "\t\thttps://research.checkpoint.com/2021/6th-september-threat-intelligence-report/\n",
            "CISA 16 Sep ACSC Releases Annual Cyber Threat Report\n",
            "\t\thttps://us-cert.cisa.gov/ncas/current-activity/2021/09/16/acsc-releases-annual-cyber-threat-report\n",
            "CISA 16 Sep FBI-CISA-CGCYBER Advisory on APT Exploitation of ManageEngine ADSelfService Plus Vulnerability\n",
            "\t\thttps://us-cert.cisa.gov/ncas/current-activity/2021/09/16/fbi-cisa-cgcyber-advisory-apt-exploitation-manageengine\n",
            "CISA 16 Sep Microsoft Releases Security Update for Azure Linux Open Management Infrastructure\n",
            "\t\thttps://us-cert.cisa.gov/ncas/current-activity/2021/09/16/microsoft-releases-security-update-azure-linux-open-management\n",
            "NSA 11 Sep NSA Remembers 9/11: Twenty Years On\n",
            "\t\thttps://www.nsa.gov/News-Features/Feature-Stories/Article-View/Article/2769030/nsa-remembers-911-twenty-years-on/\n",
            "NSA 03 Aug NSA, CISA release Kubernetes Hardening Guidance\n",
            "\t\thttps://www.nsa.gov/News-Features/Feature-Stories/Article-View/Article/2716980/nsa-cisa-release-kubernetes-hardening-guidance/\n",
            "NSA 29 Jul Defeating malicious cyber actors requires partnerships\n",
            "\t\thttps://www.nsa.gov/News-Features/Feature-Stories/Article-View/Article/2713108/defeating-malicious-cyber-actors-requires-partnerships/\n",
            "Securelist 16 Sep Exploitation of the CVE-2021-40444 vulnerability in MSHTML\n",
            "\t\thttps://securelist.com/exploitation-of-the-cve-2021-40444-vulnerability-in-mshtml/104218/\n",
            "Securelist 16 Sep Summer 2021: Friday Night Funkin’, Måneskin and pop it\n",
            "\t\thttps://securelist.com/kids-report-summer-2021/104078/\n",
            "Securelist 13 Sep Incident response analyst report 2020\n",
            "\t\thttps://securelist.com/incident-response-analyst-report-2020/104080/\n",
            "ESET 17 Sep Week in security with Tony Anscombe\n",
            "\t\thttps://www.welivesecurity.com/videos/week-security-tony-anscombe-142/\n",
            "ESET 17 Sep Numando: Count once, code twice\n",
            "\t\thttps://www.welivesecurity.com/2021/09/17/numando-latam-banking-trojan/\n",
            "ESET 15 Sep Microsoft Patch Tuesday fixes actively exploited zero‑day and 85 other flaws\n",
            "\t\thttps://www.welivesecurity.com/2021/09/15/microsoft-patch-tuesday-september-zero-day-flaws/\n",
            "EE 30 Jul Further explanation of the Information System Authority (RIA) on data theft\n",
            "\t\thttps://www.ria.ee/en/news/further-explanation-information-system-authority-ria-data-theft.html\n",
            "EE 28 Jul The Police and Border Guard Board and the Information System Authority stopped the illegal downloading of data\n",
            "\t\thttps://www.ria.ee/en/news/police-and-border-guard-board-and-information-system-authority-stopped-illegal-downloading-data.html\n",
            "EE 20 Jul Data on more than 300,000 people were available on the state portal\n",
            "\t\thttps://www.ria.ee/en/news/data-more-300000-people-were-available-state-portal.html\n",
            "CERT FR 20 Sep CERTFR-2021-AVI-718 : Multiples vulnérabilités dans Moodle (20 septembre 2021)\n",
            "\t\thttps://www.cert.ssi.gouv.fr/avis/CERTFR-2021-AVI-718/\n",
            "CERT FR 20 Sep CERTFR-2021-ACT-041 : Bulletin d’actualité CERTFR-2021-ACT-041 (20 septembre 2021)\n",
            "\t\thttps://www.cert.ssi.gouv.fr/actualite/CERTFR-2021-ACT-041/\n",
            "CERT FR 17 Sep CERTFR-2021-AVI-717 : Multiples vulnérabilités dans le noyau Linux d’Ubuntu (17 septembre 2021)\n",
            "\t\thttps://www.cert.ssi.gouv.fr/avis/CERTFR-2021-AVI-717/\n",
            "MSFT SRC 17 Sep Additional Guidance Regarding OMI Vulnerabilities within Azure VM Management Extensions\n",
            "\t\thttps://msrc-blog.microsoft.com/2021/09/16/additional-guidance-regarding-omi-vulnerabilities-within-azure-vm-management-extensions/\n",
            "MSFT SRC 08 Sep Coordinated disclosure of vulnerability in Azure Container Instances Service\n",
            "\t\thttps://msrc-blog.microsoft.com/2021/09/08/coordinated-disclosure-of-vulnerability-in-azure-container-instances-service/\n",
            "MSFT SRC 27 Aug Update on the vulnerability in the Azure Cosmos DB Jupyter Notebook Feature\n",
            "\t\thttps://msrc-blog.microsoft.com/2021/08/27/update-on-vulnerability-in-the-azure-cosmos-db-jupyter-notebook-feature/\n",
            "Sec7 23 Aug Zoom RCE from Pwn2Own 2021\n",
            "\t\thttps://sector7.computest.nl/post/2021-08-zoom/\n",
            "Sec7 07 Oct iOS VPN support: 3 different bugs\n",
            "\t\thttps://sector7.computest.nl/post/2020-10-racoon/\n",
            "Sec7 01 Jul Sign in with Apple - authentication bypass\n",
            "\t\thttps://sector7.computest.nl/post/2020-08-sign-in-with-apple/\n",
            "MLWRNews 20 Sep Microsoft makes a bold move towards a password-less future\n",
            "\t\thttps://malware.news/t/microsoft-makes-a-bold-move-towards-a-password-less-future/52858\n",
            "MLWRNews 20 Sep Emerging from uncertainty, DOD cyber war college looks to navigate the future\n",
            "\t\thttps://malware.news/t/emerging-from-uncertainty-dod-cyber-war-college-looks-to-navigate-the-future/52857\n",
            "MLWRNews 20 Sep 106 Italian mafia members arrested for SIM swapping, BEC scams, phishing\n",
            "\t\thttps://malware.news/t/106-italian-mafia-members-arrested-for-sim-swapping-bec-scams-phishing/52856\n",
            "Varonis 19 Sep Отчет Varonis о рисках данных в промышленности: каждый сотрудник предприятия имеет доступ к 6 миллионам файлов\n",
            "\t\thttps://blog.varonis.ru/manufacturing-data-risk-report/\n",
            "Varonis 08 Sep Varonis представила решение для классификации данных в облаках\n",
            "\t\thttps://blog.varonis.ru/varonis-announces-data-classification-cloud-for-box-and-google-drive/\n",
            "Varonis 02 Sep Исследование рисков SaaS Varonis: 43% всех облачных учетных записей устарели, не используются и подвергаются риску\n",
            "\t\thttps://blog.varonis.ru/saas-risk-report/\n",
            "ZDI 14 Sep The September 2021 Security Update Review\n",
            "\t\thttps://www.thezdi.com/blog/2021/9/14/the-september-2021-security-update-review-kpgpb\n",
            "ZDI 09 Sep Analysis of a Parallels Desktop Stack Clash Vulnerability and Variant Hunting using Binary Ninja\n",
            "\t\thttps://www.thezdi.com/blog/2021/9/9/analysis-of-a-parallels-desktop-stack-clash-vulnerability-and-variant-hunting-using-binary-ninja\n",
            "ZDI 02 Sep CVE-2021-2429: A Heap-based Buffer Overflow Bug in the MySQL InnoDB memcached Plugin\n",
            "\t\thttps://www.thezdi.com/blog/2021/9/2/cve-2021-2429-a-heap-based-buffer-overflow-bug-in-the-mysql-innodb-memcached-plugin\n",
            "RecordedFuture 16 Sep How Agencies Can Refine Threat Intelligence Through Automation\n",
            "\t\thttps://www.recordedfuture.com/agencies-refine-threat-intelligence-automation/\n",
            "RecordedFuture 15 Sep How Many Words is a Picture Actually Worth? What Images Mean in Intelligence Analysis\n",
            "\t\thttps://www.recordedfuture.com/what-images-mean-intelligence-analysis/\n",
            "RecordedFuture 14 Sep How to Detect Cobalt Strike: An Inside Look at the Popular Commercial Post-Exploitation Tool\n",
            "\t\thttps://www.recordedfuture.com/detect-cobalt-strike-inside-look/\n"
          ]
        }
      ]
    }
  ]
}