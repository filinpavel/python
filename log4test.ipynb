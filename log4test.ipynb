{
  "nbformat": 4,
  "nbformat_minor": 0,
  "metadata": {
    "colab": {
      "name": "log4test.ipynb",
      "provenance": [],
      "authorship_tag": "ABX9TyNm0taPfd2O1pKm4Q8I2uOY",
      "include_colab_link": true
    },
    "kernelspec": {
      "name": "python3",
      "display_name": "Python 3"
    },
    "language_info": {
      "name": "python"
    }
  },
  "cells": [
    {
      "cell_type": "markdown",
      "metadata": {
        "id": "view-in-github",
        "colab_type": "text"
      },
      "source": [
        "<a href=\"https://colab.research.google.com/github/filinpavel/python/blob/main/log4test.ipynb\" target=\"_parent\"><img src=\"https://colab.research.google.com/assets/colab-badge.svg\" alt=\"Open In Colab\"/></a>"
      ]
    },
    {
      "cell_type": "code",
      "execution_count": null,
      "metadata": {
        "id": "KU2HzFoYCjH6"
      },
      "outputs": [],
      "source": [
        "!wget https://github.com/filinpavel/python/raw/main/log4test/log4test.7z\n",
        "!7z x log4test.7z"
      ]
    },
    {
      "cell_type": "code",
      "source": [
        "from numpy.ma.core import append\n",
        "\n",
        "\n",
        "def enum_source():\n",
        "  reader = open('log4test', 'r')\n",
        "  try:\n",
        "    loglines = reader.readlines()\n",
        "    sourcelst = []\n",
        "    for i in range(len(loglines)):\n",
        "      line = loglines[i]\n",
        "      linesplit = line.split()\n",
        "      sourcestr = linesplit[3]\n",
        "      sourcelst.append(sourcestr)\n",
        "  finally:\n",
        "    reader.close()\n",
        "  \n",
        "\n",
        "  numsrc = len(set(sourcelst))\n",
        "  setsrc = set(sourcelst)\n",
        "  print('Number of sources:: ', numsrc)\n",
        "  print('List of sources:: ', setsrc) \n",
        "\n",
        "enum_source()"
      ],
      "metadata": {
        "id": "QjIRklXIIdCj",
        "colab": {
          "base_uri": "https://localhost:8080/"
        },
        "outputId": "911ebfaf-9d35-4950-b59c-091d65e935c7"
      },
      "execution_count": null,
      "outputs": [
        {
          "output_type": "stream",
          "name": "stdout",
          "text": [
            "Number of sources::  3\n",
            "List of sources::  {'172.16.199.140', '10.181.233.206', 'ZOO-ML-CE'}\n"
          ]
        }
      ]
    },
    {
      "cell_type": "code",
      "source": [
        "!grep 'ASA' log4test > asa.txt\n",
        "\n",
        "\n",
        "def asa_msg_types():\n",
        "  reader = open('asa.txt', 'r')\n",
        "  try:\n",
        "    asalines = reader.readlines()\n",
        "    asalst = []\n",
        "    for i in range(len(asalines)):\n",
        "      line = asalines[i]\n",
        "      linesplit = line.split()\n",
        "      asastr = linesplit[5]+\" \"+linesplit[6]\n",
        "      asalst.append(asastr)\n",
        "  finally:\n",
        "    reader.close()\n",
        "\n",
        "  print('Number of Cisco ASA message types:: ', len(set(asalst)))\n",
        "  print('List of Cisco ASA message types:: ', set(asalst))\n",
        "\n",
        "asa_msg_types()\n"
      ],
      "metadata": {
        "id": "KGQS09qldsGw",
        "colab": {
          "base_uri": "https://localhost:8080/"
        },
        "outputId": "96fb064a-f024-44fa-8f0d-6070377c13d5"
      },
      "execution_count": 76,
      "outputs": [
        {
          "output_type": "stream",
          "name": "stdout",
          "text": [
            "Number of Cisco ASA message types::  21\n",
            "List of Cisco ASA message types::  {'No matching', 'Device completed', 'Group <RA_TELIGENT>', '13076 in', '[ Firewall]', 'FTP connection', 'Failed to', 'Duplicate TCP', 'IPSEC: An', 'Deny IP', '[ ACL', 'SSL session', 'Deny UDP', 'Deny TCP', 'PMTU-D packet', 'Starting SSL', '[ Scanning]', 'TCP access', 'Group =', 'Denied ICMP', 'regular translation'}\n"
          ]
        }
      ]
    },
    {
      "cell_type": "code",
      "source": [
        "!grep 'ASA' log4test > asa.txt\n",
        "grep_command = \"grep -Eo '[0-9]{1,3}\\.[0-9]{1,3}\\.[0-9]{1,3}\\.[0-9]{1,3}' asa.txt > ip.txt\"\n",
        "!$grep_command\n",
        "!cat ip.txt | sort | uniq > src_dst.txt"
      ],
      "metadata": {
        "id": "gYGjiYKta81q"
      },
      "execution_count": null,
      "outputs": []
    }
  ]
}