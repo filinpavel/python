{
  "nbformat": 4,
  "nbformat_minor": 0,
  "metadata": {
    "colab": {
      "name": "log4test.ipynb",
      "provenance": [],
      "authorship_tag": "ABX9TyMpIzp3UlB2upcsQ81/5JOl",
      "include_colab_link": true
    },
    "kernelspec": {
      "name": "python3",
      "display_name": "Python 3"
    },
    "language_info": {
      "name": "python"
    }
  },
  "cells": [
    {
      "cell_type": "markdown",
      "metadata": {
        "id": "view-in-github",
        "colab_type": "text"
      },
      "source": [
        "<a href=\"https://colab.research.google.com/github/filinpavel/python/blob/main/log4test.ipynb\" target=\"_parent\"><img src=\"https://colab.research.google.com/assets/colab-badge.svg\" alt=\"Open In Colab\"/></a>"
      ]
    },
    {
      "cell_type": "code",
      "execution_count": null,
      "metadata": {
        "id": "KU2HzFoYCjH6"
      },
      "outputs": [],
      "source": [
        "!wget https://github.com/filinpavel/python/raw/main/log4test/log4test.7z\n",
        "!7z x log4test.7z"
      ]
    },
    {
      "cell_type": "code",
      "source": [
        "from numpy.ma.core import append\n",
        "\n",
        "\n",
        "def enum_source():\n",
        "  reader = open('log4test', 'r')\n",
        "  try:\n",
        "    loglines = reader.readlines()\n",
        "    sourcelst = []\n",
        "    for i in range(len(loglines)):\n",
        "      line = loglines[i]\n",
        "      linesplit = line.split()\n",
        "      sourcestr = linesplit[3]\n",
        "      sourcelst.append(sourcestr)\n",
        "  finally:\n",
        "    reader.close()\n",
        "  \n",
        "  print('Number of sources:: ',len(set(sourcelst)))\n",
        "  print('List of sources:: ', set(sourcelst))\n",
        "\n"
      ],
      "metadata": {
        "id": "QjIRklXIIdCj"
      },
      "execution_count": 84,
      "outputs": []
    },
    {
      "cell_type": "code",
      "source": [
        "enum_source()"
      ],
      "metadata": {
        "colab": {
          "base_uri": "https://localhost:8080/"
        },
        "id": "DF7SpI2NJdns",
        "outputId": "faf80b51-9eb2-48b8-c512-d6a8eb662f4a"
      },
      "execution_count": 85,
      "outputs": [
        {
          "output_type": "stream",
          "name": "stdout",
          "text": [
            "Number of sources::  3\n",
            "List of sources::  {'172.16.199.140', 'ZOO-ML-CE', '10.181.233.206'}\n"
          ]
        }
      ]
    },
    {
      "cell_type": "code",
      "source": [
        ""
      ],
      "metadata": {
        "id": "KGQS09qldsGw"
      },
      "execution_count": null,
      "outputs": []
    }
  ]
}